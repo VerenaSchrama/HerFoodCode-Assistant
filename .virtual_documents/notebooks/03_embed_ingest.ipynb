import json
from pathlib import Path
from dotenv import load_dotenv
import os
# LangChain community integrations
from langchain_community.embeddings import OpenAIEmbeddings
from langchain_community.vectorstores import Chroma

# Load environment variables (incl. OpenAI API key)
load_dotenv()


# Path to saved chunks
input_path = Path("../data/processed/chunks_InFloBook.json")

with open(input_path, "r", encoding="utf-8") as f:
    chunks = json.load(f)

print(f"✅ Loaded {len(chunks)} chunks")
print("🧩 Sample chunk:\n", chunks[0])



embedding_model = OpenAIEmbeddings(
    openai_api_key=os.getenv("OPENAI_API_KEY")
)


persist_dir = "../data/vectorstore/chroma"

vectorstore = Chroma.from_texts(
    texts=chunks,
    embedding=embedding_model,
    persist_directory=persist_dir
)

vectorstore.persist()
print(f"✅ Vector store created and saved at: {persist_dir}")



vectorstore = Chroma(
    persist_directory="../data/vectorstore/chroma",
    embedding_function=embedding_model
)

print("✅ Reloaded Chroma vectorstore")

