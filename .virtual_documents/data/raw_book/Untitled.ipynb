# 📦 Imports
from pathlib import Path
from langchain.text_splitter import RecursiveCharacterTextSplitter

# 📂 Load raw text file
input_path = Path("../data/raw_book/InFloBook.txt")
with open(input_path, "r", encoding="utf-8") as f:
    raw_text = f.read()

# 🔍 Preview
print(raw_text[:1000])



